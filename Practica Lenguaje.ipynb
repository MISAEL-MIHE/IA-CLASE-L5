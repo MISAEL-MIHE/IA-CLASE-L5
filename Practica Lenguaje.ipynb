{
 "cells": [
  {
   "cell_type": "markdown",
   "metadata": {},
   "source": [
    "# Practica: Deteccion de lenguaje usando NLTK\n",
    "\n",
    "## Armando Misael Miranda Hernandez\n",
    "\n",
    "Python es uno de los lenguajes de programas mas potentes y populares. Como hemos visto hasta el dia de hoy se puede utilizar de muchas formas. Entre una de estas formas, se incluye la deteccion de idiomas. Es aqui en donde entran los algoritmos de PLN.\n",
    "\n",
    "Los algoritmos de PLN tienen que modificarse para diferentes corpus y de acuerdo con la gramatica de difernetes idiomas. De acuerdo con el idioma que se este utilizando para realizar PLN, es el software o librerias que se debe de seleccionar. Por ejemplo, NLTK es la libreria de procedsamiento de lenguaje natural mas utilizada para el idioma ingles en Python. Sin embargo, FreeLing es una de las mejores alternativas cuando estamos trabajando con español.\n",
    "\n",
    "La eficiencia del procesamiento de lenguaje netural depende de varios factores. Un modelo con una calidad superior para el analisis de texto debe incluir lo siguiente:\n",
    "\n",
    "#### 1. Extraccion del texto:\n",
    "El texto puede extraerse mediante desde una pagina o datos web, importandolo en un formato particular, tomandolo desde una base de datos u a traves de una API.\n",
    "\n",
    "#### 2. Identificacion del texto:\n",
    "Es el proceso de separacion de texto relevante o de interes, del texto que nos añade ruido al analisis.\n",
    "\n",
    "#### 3. Procesamiento de lenguaje Natural (PLN):\n",
    "Es el conjunto de algoritmos que admiten el procesamiento de diferentes idiomas o lenguajes.\n",
    "\n",
    "#### 4. Aprendizaje automatico\n",
    "Es un paso escencial para lograr objetivos como la colaboracion, el analidis de sentimienots y la agrupacion\n",
    "\n",
    "##### Combinacion de Python y NLTK para la deteccion del lenguaje\n",
    "La mayoria de las personas utiizan motores de busqueda y redes sociales. Los cuales se muestran en difernetes lengujaes. Entre ellos español e ingles.\n",
    "\n",
    "Para lograr este proceso, es un texto indexado dabe examinarse bien, lo que da como resultado el contenido mostrado por estos motores y redes sociales.\n",
    "\n",
    "Existen muchas maneras de lograr de lograr este objetivo, la forma mas facil de hacerlo es mediante el enfoque basado en 'stopwords'\n",
    "\n",
    "'Stopword' se usa en el procesamiento de lenguaje natural para mencionar palabras que se deben filtrar del texto antes de que tenga lugar cualquier tipo de procesamiento.\n",
    "\n",
    "Ahora, tenemos un texto para detectar el idioma. El paso basico es tokenizar el texto dado una lista de 'palabras' y 'tokens', utilizando un enfoque que depende de los requerimientos.\n",
    "\n",
    "##### El siguiente ejemplo de deteccion de lenguaje utiliza NLTK y Python"
   ]
  },
  {
   "cell_type": "code",
   "execution_count": 2,
   "metadata": {},
   "outputs": [
    {
     "name": "stdout",
     "output_type": "stream",
     "text": [
      "cadena de texto:Hello my name is Misael\t lenguaje:english\n",
      "\n",
      " cadena de texto:Hola mi nombre es Misael\t lenguaje:spanish\n",
      "\n",
      " cadena de texto:Bonjour mon nom est Misael\t lenguaje:french\n",
      "\n",
      " cadena de texto:Hallo mein Name ist Misael\t lenguaje:german\n"
     ]
    }
   ],
   "source": [
    "from nltk import *\n",
    "from nltk.corpus import *\n",
    "\n",
    "def lang_ratio(input):\n",
    "    lang_ratio={}\n",
    "    tokens=wordpunct_tokenize(input)\n",
    "    words=[word.lower() for word in tokens]\n",
    "    for language in stopwords.fileids():\n",
    "        stopwords_set=set(stopwords.words(language))\n",
    "        words_set=set(words)\n",
    "        common_elements=words_set.intersection(stopwords_set)\n",
    "        lang_ratio[language]= len(common_elements)\n",
    "    return lang_ratio\n",
    "def detect_language(input):\n",
    "    ratios=lang_ratio(input)\n",
    "    language=max(ratios, key=ratios.get)\n",
    "    return language\n",
    "\n",
    "input1='Hello my name is Misael'\n",
    "input2='Hola mi nombre es Misael'\n",
    "input3='Bonjour mon nom est Misael'\n",
    "input4='Hallo mein Name ist Misael'\n",
    "\n",
    "language=detect_language(input1)\n",
    "print('cadena de texto:'+input1+'\\t lenguaje:'+ language)\n",
    "\n",
    "language=detect_language(input2)\n",
    "print('\\n cadena de texto:'+input2+'\\t lenguaje:'+ language)\n",
    "\n",
    "language=detect_language(input3)\n",
    "print('\\n cadena de texto:'+input3+'\\t lenguaje:'+ language)\n",
    "\n",
    "language=detect_language(input4)\n",
    "print('\\n cadena de texto:'+input4+'\\t lenguaje:'+ language)"
   ]
  }
 ],
 "metadata": {
  "kernelspec": {
   "display_name": "Python 3",
   "language": "python",
   "name": "python3"
  },
  "language_info": {
   "codemirror_mode": {
    "name": "ipython",
    "version": 3
   },
   "file_extension": ".py",
   "mimetype": "text/x-python",
   "name": "python",
   "nbconvert_exporter": "python",
   "pygments_lexer": "ipython3",
   "version": "3.7.4"
  }
 },
 "nbformat": 4,
 "nbformat_minor": 2
}
