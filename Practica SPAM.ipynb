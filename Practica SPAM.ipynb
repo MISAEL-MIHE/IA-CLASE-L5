{
 "cells": [
  {
   "cell_type": "markdown",
   "metadata": {},
   "source": [
    "# Correos electronicos SPAM: Un enfoque con Procesamiento de Lenguaje Natural\n",
    "\n",
    "## Armando Misael Miranda Hernandez"
   ]
  },
  {
   "cell_type": "markdown",
   "metadata": {},
   "source": [
    "Los correos electronicos no deseados en su bandeja de entreda son molestos ya que perturban la rutina del usuario. Es por eso que las cuentas de correo electronico ya tiene un filtro spam. Dado que es una de las aplicaciones del PLN mas utilizadas vamos a ver como se desarrollo un filtro de spam simple para correos electronicos."
   ]
  },
  {
   "cell_type": "code",
   "execution_count": 1,
   "metadata": {},
   "outputs": [],
   "source": [
    "# Importamos las famosas librerias\n",
    "from functools import reduce\n",
    "\n",
    "import nltk\n",
    "from nltk.stem import WordNetLemmatizer\n",
    "import pandas as pd\n",
    "import string\n",
    "import re"
   ]
  },
  {
   "cell_type": "code",
   "execution_count": 2,
   "metadata": {},
   "outputs": [],
   "source": [
    "#instertamos los datos\n",
    "full_corpus=pd.read_csv('SMSSpamCollection.tsv',sep='\\t', header=None, names=['label','msg_body'])\n",
    "\n",
    "#Separando los datos en ham y spam\n",
    "ham_text=[]\n",
    "spam_text=[]"
   ]
  },
  {
   "cell_type": "markdown",
   "metadata": {},
   "source": [
    "## Bigrams"
   ]
  },
  {
   "cell_type": "markdown",
   "metadata": {},
   "source": [
    "Los N-gramos se usan para modelar el lenguaje en funcion de la prediccion de palabras, es decir, predice la siguiente palabra de una oracion de palabras N-1 anteriores. Biagrams es la secuencia de 2 de N-gramos que predice la siguiente palabra de una oracion usando la palabra anterior. En lugar de considerar la historia completa de una oracion o una secuencia de palabras en particular, un modelo como biagram puede ser ocupado en terminos de una aproximacion de la historia al ocupar una historia limitada.\n",
    "\n",
    "La identificacion de un mensaje como 'ham' o 'spam' es una tarea de clasificacion ya que la variable de destino tiene valores discretos que son \"ham\" o \"spam\". En esta practica, se usa el modelo biagram, aunque existen muchas tecnicas avanzadas que se pueden utilizar para este proposito. Para utilizar el modelo biagram para asignar un mensaje dado como \"spam\" o \"ham\", hay variospasos que deben lograrse:\n",
    "\n",
    "#### 1. Inspeccion y separacion de mensajes en las categorias \"Ham y Spam\"\n",
    "Inicialmente, el conjunto de datos debe inspeccionarse para ocuparlo y abordarlo para lograr la tarea. El formato de los datos dados, la cantidad de datos proporcionados la naturaleza de los datos se incluyen en esta inspeccion para indetificar la mejor aproximacion posible para la tarea.\n",
    "\n",
    "El corpus de mensajes dado ha marcado cada mensaje como ham o spam. Ademas, hay 5568 mensajes en un DataFrame escrito en ingles que no son objetos nulos. Por lo tanto, el archivo tsv se puede leer usando DataFrame en python para clasificar esos mensajes de acuerdo con el indocador dado."
   ]
  },
  {
   "cell_type": "code",
   "execution_count": 3,
   "metadata": {},
   "outputs": [],
   "source": [
    "def separete_msg():\n",
    "    for index, column in full_corpus.iterrows():\n",
    "        label=column[0]\n",
    "        message_text=column[1]\n",
    "        if label=='ham':\n",
    "            ham_text.append(message_text)\n",
    "        elif label=='spam':\n",
    "            spam_text.append(message_text)\n",
    "separete_msg()"
   ]
  },
  {
   "cell_type": "markdown",
   "metadata": {},
   "source": [
    "### 2. Preprocesamiento de texto\n",
    "El preprocesamiento es la tarea de realizar los pasos de preparacion e el corpus de texto sin formato para completar de manera eficiente una extraccion de texto o procesamiento de lenguaje natural o cualquier otra tarea que incluya texto sin formato. El preprocesamiento de texto consta de varios pasos, aunque algunos de ellos pueden no aplicarse a una tarea en particular debido a la naturaleza del conjunto de datos disponible.\n",
    "\n",
    "En esta tarea, el preprocesamiento de texto inlcuye los siguientes pasos de acuerdo con el conjunto de datos.\n",
    "\n",
    "#### Eliminacion de signos de puntuacion"
   ]
  },
  {
   "cell_type": "code",
   "execution_count": 4,
   "metadata": {},
   "outputs": [],
   "source": [
    "#Eliminacion de los signos de puntuacion de los mensajes de correo electronico\n",
    "def remove_msg_punctuations(email_msg):\n",
    "    puntuaction_remove_msg=\"\".join([word for word in email_msg if word not in string.punctuation])\n",
    "    return puntuaction_remove_msg"
   ]
  },
  {
   "cell_type": "markdown",
   "metadata": {},
   "source": [
    "#### Convertir a minusculas:\n",
    "Convertir a minusculas: La conversion de todos los caracteres del texto en un contexto comun, como lo soportes en minusculas, impide identificar dos palabras de manera diferente donde una esta en minisculas y la otra no. Por ejemplo, \"Primero\" y \"primero\" deben identificarse como iguales, por lo tanto, poner en minusculas todos los caracteres facilita la tarea. Ademas, las palabras de detencion tambien estan en minusculas, por lo que esto tammbien haria posible eliminar palabras de detencion mas adelante.\n",
    "\n",
    "#### Tokenizing\n",
    "Tokenizing: La tokenizacion es la tarea de dividir el texto en partes significativas, es decir, tokens que incluye oraciones y palabras. Un token se puede considerar como una instancia de una secuancia de caracteres en un texto particular que se agrupan para proporcionar una unidad semantica util para su porterior procesamiento. En esta tarea, la tokenizacion de palabras se realiza combinando espacios en blanco entre palabras como delimitaor. Esto se logra en Python usando expresiones regulares para dividir una cadena en subcadenas con la funcion split(), que es un tokenizador basico."
   ]
  },
  {
   "cell_type": "code",
   "execution_count": 5,
   "metadata": {},
   "outputs": [],
   "source": [
    "# Convierte el texto en minusculas y tokenizing de palabras\n",
    "def tokenize_into_words(text):\n",
    "    tokens=re.split('\\W', text)\n",
    "    return tokens"
   ]
  },
  {
   "cell_type": "markdown",
   "metadata": {},
   "source": [
    "#### Palabras Lematizantes:\n",
    "La derivacion es el proceso de elimar afijos(sufijos, prefijos, infijos, circunfijos) de una palabra para obtener su raiz de palabra. Aunque la lematizacion esta relacionada con la derivacion, difiere ya que la lematizacion puede capturar formas canonicas basadas en el lema de una palabra. La lematizacion ocupa un vocabulario y un analisis morfologico de las palabras que lo hacen mas rapido y preciso que la derivacion. WordNetLemmatizer ha logrado la lematizacion en lenguaje Python"
   ]
  },
  {
   "cell_type": "code",
   "execution_count": 6,
   "metadata": {},
   "outputs": [],
   "source": [
    "#Lemmatizing\n",
    "word_lemmatizer=WordNetLemmatizer()\n",
    "def lemmatization(tokenized_word):\n",
    "    lemmatized_text=[word_lemmatizer.lemmatize(word)for word in tokenized_word]\n",
    "    return ' '.join(lemmatized_text)\n",
    "\n",
    "def preprocessing_msgs(corpus):\n",
    "    categorized_text=pd.DataFrame(corpus)\n",
    "    categorized_text['non_punc_message_body']=categorized_text[0].apply(lambda msg: remove_msg_punctuations(msg))\n",
    "    categorized_text['tokenized_msg_body']=categorized_text['non_punc_message_body'].apply(lambda msg: tokenize_into_words(msg.lower()))\n",
    "    categorized_text['lemmatized_msg_words']=categorized_text['tokenized_msg_body'].apply(lambda word_list: lemmatization(word_list))\n",
    "    return categorized_text['lemmatized_msg_words']"
   ]
  },
  {
   "cell_type": "markdown",
   "metadata": {},
   "source": [
    "### 3. Extracción de características\n",
    "Después de la etapa de procesamiento, las caracteristicas deben extraerse del texto. Las caracteristicas son las unidades que admiten la tarea de clasificación, y las bigrams son las caracteristicas en esta tarea de clasificación de mensajes. Los birams o las caracteristicas se extraen dek texto preprocesado Inicialmente, los unigramas se adquieren, y luego esos unigramas se utilizan para obtener los unigramas en cada corpus (\"ham\" y \"spam\")."
   ]
  },
  {
   "cell_type": "code",
   "execution_count": 7,
   "metadata": {},
   "outputs": [],
   "source": [
    "# Extraccion de caracteristicas. Ejemplos: n-grass\n",
    "def feature_extraction(preprocessed_text):\n",
    "    bigrams=[]\n",
    "    unigram_lists=[]\n",
    "    for msg in preprocessed_text:\n",
    "        # Agregando end of and start of a mensaje\n",
    "        msg='<s>' + msg + '</s>'\n",
    "        unigram_lists.append(msg.split())\n",
    "    unigrams=[uni_list for sub_list in unigram_lists for uni_list in sub_list]\n",
    "    bigrams.extend(nltk.bigrams(unigrams))\n",
    "    return bigrams"
   ]
  },
  {
   "cell_type": "markdown",
   "metadata": {},
   "source": [
    "### 4. Eliminacion de Stop Words\n",
    "\n",
    "Hay ciertas parabras en un idioma (se utiliza ingles en la practica) que son para necerias para una oracion o una secuencia de palabras, auque no contribuyen al significado\n",
    "\n",
    "En lugar de eliminar las palabras de detención en el paso de preprocesamiento, se realiza después de extraer las características del corpus para evitar la\n",
    "ausencia de bigrams con palabras de una parada (('use', ’your'), ('to', ’win’ )) al adquirir las funciones, ya que tienen un impacto en el resultado final de la aplicación. Las palabras de detención se pueden ignorar en esta Recuperación de información orientada a palabras clave debido a su efecto en la precisión\n",
    "de la recuperación.\n"
   ]
  },
  {
   "cell_type": "code",
   "execution_count": 8,
   "metadata": {},
   "outputs": [],
   "source": [
    "# Eliminando biagrams solo con stop words\n",
    "stopwords=nltk.corpus.stopwords.words('english')\n",
    "def filter_stopwords_biagrams(biagram_list):\n",
    "    filtered_biagrams=[]\n",
    "    for biagram in biagram_list:\n",
    "        if biagram[0] in stopwords and biagram[1] in stopwords:\n",
    "            continue\n",
    "        filtered_biagrams.append(biagram)\n",
    "    return filtered_biagrams"
   ]
  },
  {
   "cell_type": "markdown",
   "metadata": {},
   "source": [
    "### 5. Obtener distribución de frecuencia de características\n",
    "\n",
    "La distribución de frecuencia se utiliza para obtener la frecuencia de aparición de cada elemento de vocabulario en un texto determinado."
   ]
  },
  {
   "cell_type": "code",
   "execution_count": 9,
   "metadata": {},
   "outputs": [],
   "source": [
    "#Adquiriendo la frecuencia de caractericticas\n",
    "def ham_bigram_feature_frequency():\n",
    "    # Frecuencia de caracteristicas para mensajes ham\n",
    "    ham_biagrams=feature_extraction(preprocessing_msgs(ham_text))\n",
    "    ham_biagrams_frecuency=nltk.FreqDist(filter_stopwords_biagrams(ham_biagrams))\n",
    "    return ham_biagrams_frecuency\n",
    "\n",
    "def spam_bigram_feature_frequency():\n",
    "    # Frecuencia de caractericticas para mensajes spam\n",
    "    spam_bigrams=feature_extraction(preprocessing_msgs(spam_text))\n",
    "    spam_bigrams_frecuency=nltk.FreqDist(filter_stopwords_biagrams(spam_bigrams))\n",
    "    return spam_bigrams_frecuency"
   ]
  },
  {
   "cell_type": "markdown",
   "metadata": {},
   "source": [
    "### 6. Construyendo un modelo para la predicción\n",
    "El modelo para clasificar un mensaje dado como \"ham\" o \"spam\" se ha abordado calculando las probabilidades de bigram dentro de cada corpus.\n",
    "Inicialmente, el mensaje dado debe procesarse previamente para avanzar con la clasificación, incluida la eliminación de signos de puntuación, el cambio de\n",
    "todos los caracteres a minúsculas, la tokenización y la lematización. Luego, los bigrams se extraen del texto preprocesado para calcular finalmente la\n",
    "probabilidad de que el texto esté en cada corpus \"ham\" o \"spam\".\n"
   ]
  },
  {
   "cell_type": "code",
   "execution_count": 10,
   "metadata": {},
   "outputs": [],
   "source": [
    "# Calculando probabilidades del biagram\n",
    "def biagram_probability(message):\n",
    "    probability_h=1\n",
    "    probability_s=1\n",
    "    # Preprocesando los mensajes de entrada\n",
    "    punc_removed_message=\"\".join(word for word in message if word not in string.punctuation)\n",
    "    punc_removed_message='<s>'+punc_removed_message+'</s>'\n",
    "    tokenized_msg=re.split('\\s+', punc_removed_message)\n",
    "    lemmatized_msg=[word]"
   ]
  },
  {
   "cell_type": "code",
   "execution_count": 12,
   "metadata": {},
   "outputs": [
    {
     "name": "stdout",
     "output_type": "stream",
     "text": [
      "========================== Calculando Probabilidades ==========================\n",
      "----------- Frecuencias Ham ------------\n",
      "('<s>', 'Click')  ocurre  1\n",
      "1.675126053235506e-05\n",
      "('Click', 'here')  ocurre  1\n",
      "2.8085878531185657e-10\n",
      "('here', 'to')  ocurre  1\n",
      "4.706315419874601e-15\n",
      "('to', 'win')  ocurre  2\n",
      "1.2633725490912166e-19\n",
      "('win', 'an')  ocurre  1\n",
      "2.1168756372902877e-24\n",
      "('an', 'iphone')  ocurre  1\n",
      "3.527890869425851e-29\n",
      "('iphone', '11')  ocurre  1\n",
      "5.915012439726122e-34\n",
      "('11', 'pro')  ocurre  1\n",
      "9.916863561221409e-39\n",
      "('pro', 'max')  ocurre  1\n",
      "1.662675803303167e-43\n",
      "('max', '</s>')  ocurre  1\n",
      "2.787666493365916e-48\n",
      "\n",
      "\n",
      "----------- Frecuencias Spam ------------\n",
      "('<s>', 'Click')  ocurre  1\n",
      "6.109855196431844e-05\n",
      "('Click', 'here')  ocurre  1\n",
      "3.733261148986829e-09\n",
      "('here', 'to')  ocurre  1\n",
      "2.2806898093877625e-13\n",
      "('to', 'win')  ocurre  19\n",
      "1.8728112359913339e-16\n",
      "('win', 'an')  ocurre  4\n",
      "4.46598601643337e-20\n",
      "('an', 'iphone')  ocurre  1\n",
      "2.716040878448805e-24\n",
      "('iphone', '11')  ocurre  1\n",
      "1.65956304439008e-28\n",
      "('11', 'pro')  ocurre  1\n",
      "1.0135355101930377e-32\n",
      "('pro', 'max')  ocurre  1\n",
      "6.192555203721132e-37\n",
      "('max', '</s>')  ocurre  1\n",
      "3.781713101509088e-41\n",
      "\n",
      "\n",
      "Probabilidad Ham: 2.787666493365916e-48\n",
      "Probabildiad Spam: 3.781713101509088e-41\n",
      "\n",
      "\n",
      "\"Click here,  ..to win an iphone 11 pro max\" es un mensaje Spam\n",
      "\n",
      "\n",
      "========================== Calculando Probabilidades ==========================\n",
      "----------- Frecuencias Ham ------------\n",
      "('<s>', 'Homework')  ocurre  1\n",
      "1.675126053235506e-05\n",
      "('Homework', '</s>')  ocurre  1\n",
      "2.8085878531185657e-10\n",
      "\n",
      "\n",
      "----------- Frecuencias Spam ------------\n",
      "('<s>', 'Homework')  ocurre  1\n",
      "6.109855196431844e-05\n",
      "('Homework', '</s>')  ocurre  1\n",
      "3.733261148986829e-09\n",
      "\n",
      "\n",
      "Probabilidad Ham: 2.8085878531185657e-10\n",
      "Probabildiad Spam: 3.733261148986829e-09\n",
      "\n",
      "\n",
      "\"Homework\" es un mensaje Spam\n",
      "\n",
      "\n"
     ]
    }
   ],
   "source": [
    "# Calculando probabilidades del bigram\n",
    "def bigram_probability(message):\n",
    "    probability_h = 1\n",
    "    probability_s = 1\n",
    "    # Preprocesando los mensaje de entrada\n",
    "    punc_removed_message = \"\".join(word for word in message if word not in string.punctuation)\n",
    "    punc_removed_message = '<s> ' +punc_removed_message +' </s>'\n",
    "    tokenized_msg = re.split('\\s+', punc_removed_message)\n",
    "    lemmatized_msg = [word_lemmatizer.lemmatize(word)for word in tokenized_msg]\n",
    "    # bigrams para el mensaje\n",
    "    bigrams_for_msg = list(nltk.bigrams(lemmatized_msg))\n",
    "    # Eliminamos stop words\n",
    "    ham_unigrams = [word for word in feature_extraction(preprocessing_msgs(ham_text)) if word not in stopwords]\n",
    "    spam_unigrams = [word for word in feature_extraction(preprocessing_msgs(spam_text)) if word not in stopwords]\n",
    "    # Frecuencias de bigrams extraidas\n",
    "    ham_frequency = ham_bigram_feature_frequency()\n",
    "    spam_frequency  = spam_bigram_feature_frequency()\n",
    "    print('========================== Calculando Probabilidades ==========================')\n",
    "    print('----------- Frecuencias Ham ------------')\n",
    "    for bigram in bigrams_for_msg:\n",
    "        # probabilidad de la primera palabra en bigram\n",
    "        ham_probability_denominator = 0\n",
    "        # probabilidad de bigram (suavizado) \n",
    "        ham_probability_of_bigram = ham_frequency[bigram] + 1\n",
    "        print(bigram, ' ocurre ', ham_probability_of_bigram)\n",
    "        for (first_unigram, second_unigram) in filter_stopwords_biagrams(ham_unigrams):\n",
    "            ham_probability_denominator += 1\n",
    "            if(first_unigram == bigram[0]):\n",
    "                ham_probability_denominator += ham_frequency[first_unigram, second_unigram]\n",
    "        probability = ham_probability_of_bigram / ham_probability_denominator\n",
    "        probability_h *= probability\n",
    "        print(probability_h )\n",
    "    print('\\n')\n",
    "    print('----------- Frecuencias Spam ------------')\n",
    "    for bigram in bigrams_for_msg:\n",
    "        # probabilidad de la primera palabra en bigram\n",
    "        spam_probability_denominator = 0\n",
    "        # probabilidad de bigram (suavizado) \n",
    "        spam_probability_of_bigram = spam_frequency[bigram] + 1\n",
    "        print(bigram, ' ocurre ', spam_probability_of_bigram)\n",
    "        for (first_unigram, second_unigram) in filter_stopwords_biagrams(spam_unigrams):\n",
    "            spam_probability_denominator += 1\n",
    "            if(first_unigram == bigram[0]):\n",
    "                spam_probability_denominator += spam_frequency[first_unigram, second_unigram]\n",
    "        probability = spam_probability_of_bigram / spam_probability_denominator\n",
    "        probability_s *= probability\n",
    "        print(probability_s )\n",
    "    print('\\n')\n",
    "    print('Probabilidad Ham: ' +str(probability_h))\n",
    "    print('Probabildiad Spam: ' +str(probability_s))\n",
    "    print('\\n')\n",
    "    if(probability_h >= probability_s):\n",
    "        print('\\\"' +message +'\\\" es un mensaje Ham')\n",
    "    else:\n",
    "        print('\\\"' +message +'\\\" es un mensaje Spam')\n",
    "    print('\\n')\n",
    "bigram_probability('Click here,  ..to win an iphone 11 pro max')\n",
    "bigram_probability('Homework')"
   ]
  },
  {
   "cell_type": "code",
   "execution_count": null,
   "metadata": {},
   "outputs": [],
   "source": []
  },
  {
   "cell_type": "code",
   "execution_count": null,
   "metadata": {},
   "outputs": [],
   "source": []
  }
 ],
 "metadata": {
  "kernelspec": {
   "display_name": "Python 3",
   "language": "python",
   "name": "python3"
  },
  "language_info": {
   "codemirror_mode": {
    "name": "ipython",
    "version": 3
   },
   "file_extension": ".py",
   "mimetype": "text/x-python",
   "name": "python",
   "nbconvert_exporter": "python",
   "pygments_lexer": "ipython3",
   "version": "3.7.4"
  }
 },
 "nbformat": 4,
 "nbformat_minor": 2
}
