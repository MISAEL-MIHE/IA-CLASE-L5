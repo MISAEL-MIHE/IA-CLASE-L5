{
 "cells": [
  {
   "cell_type": "markdown",
   "metadata": {},
   "source": [
    "# Character Recognition (OCR)\n",
    "## Armando Misael Miranda Hernandez\n",
    "Hacer que la computadora tenga ojos no es tare facil. Si, puedes tomar una camara web, pero eso no significa que la computadora pueda analizae lo que esta viendo.\n",
    "\n",
    "Los acontecimientos recientes hicieron avanzar el campo. Con la tecnologia Deep Learning, ahora pueden hacer observaciones basicas de diferentes objetos en muchas posiciones diferentes.\n",
    "\n",
    "Entonces, si no sabes nada sobre el aprendizaje profundo o las redes neuroaneles, cómo comienzas en el campo de la visión por computadora?\n",
    "\n",
    "Por supuesto, no puede comenzar con los conceptos más complicados y trabajar hacia atrás. Tienes que empezar por lo básico.\n",
    "\n",
    "En este nivel MáS básico, puede hacer reconociemiento de patrones. Para reducir la complejidad, recomiendo comenzar aprendiendo Python en lugar de C++.\n",
    "\n",
    "El reconocimiento de caracteres (ORC) es una tarea basica de vision artificial.\n",
    "\n",
    "### OCR con Python\n",
    "El siguiente código traducirá el texto de la imagen a texto en la terminal."
   ]
  },
  {
   "cell_type": "code",
   "execution_count": 1,
   "metadata": {},
   "outputs": [
    {
     "name": "stdout",
     "output_type": "stream",
     "text": [
      "Anat Amal fw dscoteavoe pode atone\n",
      "\n",
      " \n",
      "\n",
      "24 pt:\n",
      "Arial: Amazingly few discotheques\n",
      "provide jukeboxes.\n",
      "Courie. Amazin\n",
      "discotheques p:\n",
      "jukeboxes.\n",
      "Times: Amazingly few discotheques provide\n",
      "jukeboxes.\n"
     ]
    }
   ],
   "source": [
    "from PIL import Image\n",
    "import pytesseract\n",
    "\n",
    "def ocr_core(filename):\n",
    "    text = pytesseract.image_to_string(Image.open(filename))\n",
    "    return text\n",
    "data =ocr_core('pic.png')\n",
    "print(data)"
   ]
  }
 ],
 "metadata": {
  "kernelspec": {
   "display_name": "Python 3",
   "language": "python",
   "name": "python3"
  },
  "language_info": {
   "codemirror_mode": {
    "name": "ipython",
    "version": 3
   },
   "file_extension": ".py",
   "mimetype": "text/x-python",
   "name": "python",
   "nbconvert_exporter": "python",
   "pygments_lexer": "ipython3",
   "version": "3.7.7"
  }
 },
 "nbformat": 4,
 "nbformat_minor": 4
}
